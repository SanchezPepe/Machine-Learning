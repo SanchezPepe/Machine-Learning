{
 "cells": [
  {
   "cell_type": "code",
   "execution_count": 1,
   "metadata": {},
   "outputs": [],
   "source": [
    "import pandas as pnd\n",
    "import numpy as np\n",
    "import matplotlib.pyplot as plot"
   ]
  },
  {
   "cell_type": "code",
   "execution_count": 2,
   "metadata": {},
   "outputs": [],
   "source": [
    "def lrPartialDerivatives(X, Y, m, theta0, theta1):\n",
    "    hypothesis = (theta0 + theta1 * X) - Y\n",
    "    deriv0 = sum(hypothesis)\n",
    "    deriv1 = sum(hypothesis * X)\n",
    "    \n",
    "    deriv0 /= m\n",
    "    deriv1 /= m\n",
    "    \n",
    "    return deriv0, deriv1"
   ]
  },
  {
   "cell_type": "code",
   "execution_count": 3,
   "metadata": {},
   "outputs": [],
   "source": [
    "def linearRegresion(X, Y, alpha, tol, maxIters):\n",
    "    #Initial theta guess values\n",
    "    theta0 = 0\n",
    "    theta1 = 0\n",
    "    m = len(X)\n",
    "    band = True\n",
    "    cont = 0\n",
    "    \n",
    "    while band:\n",
    "        deriv0, deriv1 = lrPartialDerivatives(X, Y, m, theta0, theta1)\n",
    "        chRate0 = alpha * deriv0\n",
    "        chRate1 = alpha * deriv1\n",
    "        \n",
    "        theta0 += (-1 * chRate0)\n",
    "        theta1 += (-1 * chRate1)\n",
    "        cont += 1\n",
    "        \n",
    "        if (cont == maxIters) or (max(abs(chRate0), abs(chRate1)) < tol):\n",
    "            band = False\n",
    "    \n",
    "    return theta0, theta1"
   ]
  },
  {
   "cell_type": "code",
   "execution_count": 4,
   "metadata": {},
   "outputs": [],
   "source": [
    "def getPredictedValues(X, theta0, theta1):\n",
    "    yValues = theta0 + theta1 * X\n",
    "    return yValues"
   ]
  },
  {
   "cell_type": "code",
   "execution_count": 5,
   "metadata": {},
   "outputs": [
    {
     "data": {
      "text/plain": [
       "(array([1.87571423, 1.74706036, 1.88239668, ..., 1.622247  , 1.75346978,\n",
       "        1.57338384]),\n",
       " array([109.7210746 ,  73.6227919 ,  96.49762889, ...,  58.27542434,\n",
       "         74.32222625,  51.55036584]))"
      ]
     },
     "execution_count": 5,
     "metadata": {},
     "output_type": "execute_result"
    }
   ],
   "source": [
    "dataframe = pnd.read_csv('pesos_y_alturas_v1.csv')\n",
    "X = np.array(dataframe['Altura'])\n",
    "Y = np.array(dataframe['Peso'])\n",
    "X, Y"
   ]
  },
  {
   "cell_type": "code",
   "execution_count": 6,
   "metadata": {},
   "outputs": [
    {
     "data": {
      "text/plain": [
       "(-159.0901038512028, 137.81411767141583)"
      ]
     },
     "execution_count": 6,
     "metadata": {},
     "output_type": "execute_result"
    }
   ],
   "source": [
    "alpha = 0.25\n",
    "tol = 1e-6\n",
    "maxIters = 20000\n",
    "\n",
    "theta0, theta1 = linearRegresion(X, Y, alpha, tol, maxIters)\n",
    "theta0, theta1"
   ]
  },
  {
   "cell_type": "code",
   "execution_count": 7,
   "metadata": {},
   "outputs": [
    {
     "data": {
      "image/png": "[encoded data removed]",
      "text/plain": [
       "<Figure size 432x288 with 1 Axes>"
      ]
     },
     "metadata": {
      "needs_background": "light"
     },
     "output_type": "display_data"
    }
   ],
   "source": [
    "predictedPesos = getPredictedValues(X, theta0, theta1)\n",
    "\n",
    "plot.scatter(X, Y)\n",
    "plot.plot(X, predictedPesos, '-r')\n",
    "plot.xlabel('Altura')\n",
    "plot.ylabel('Peso')\n",
    "plot.show()"
   ]
  },
  {
   "cell_type": "code",
   "execution_count": null,
   "metadata": {},
   "outputs": [],
   "source": []
  }
 ],
 "metadata": {
  "kernelspec": {
   "display_name": "Python 3",
   "language": "python",
   "name": "python3"
  },
  "language_info": {
   "codemirror_mode": {
    "name": "ipython",
    "version": 3
   },
   "file_extension": ".py",
   "mimetype": "text/x-python",
   "name": "python",
   "nbconvert_exporter": "python",
   "pygments_lexer": "ipython3",
   "version": "3.8.2"
  }
 },
 "nbformat": 4,
 "nbformat_minor": 4
}
