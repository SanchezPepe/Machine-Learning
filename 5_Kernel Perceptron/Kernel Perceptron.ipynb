{
 "cells": [
  {
   "cell_type": "code",
   "execution_count": 45,
   "metadata": {},
   "outputs": [],
   "source": [
    "import pandas as pnd\n",
    "import numpy as np\n",
    "import random as rd\n",
    "import math\n",
    "import matplotlib.pyplot as plot"
   ]
  },
  {
   "cell_type": "code",
   "execution_count": 46,
   "metadata": {},
   "outputs": [],
   "source": [
    "def kernel(x, x1):\n",
    "    return math.exp((-1/2)*(np.linalg.norm(x - x1)**2))"
   ]
  },
  {
   "cell_type": "code",
   "execution_count": 47,
   "metadata": {},
   "outputs": [],
   "source": [
    "def getKernelData(x):\n",
    "    n = len(x)\n",
    "    kernelData = np.zeros((n, n))\n",
    "    \n",
    "    for i in range(n):\n",
    "        for j in range(n):\n",
    "            kernelData[i, j] = kernel(x[i], x[j])\n",
    "            \n",
    "    return kernelData"
   ]
  },
  {
   "cell_type": "code",
   "execution_count": 48,
   "metadata": {},
   "outputs": [],
   "source": [
    "def getSumData(alpha, y, K):\n",
    "    return np.sum(alpha * y * K)"
   ]
  },
  {
   "cell_type": "code",
   "execution_count": 49,
   "metadata": {},
   "outputs": [],
   "source": [
    "def perceptron(data, T):\n",
    "    X = data[:, :-1] \n",
    "    Y = data[:, -1]\n",
    "    n = len(X)\n",
    "    \n",
    "    alpha = np.zeros(n)\n",
    "    kernelData = getKernelData(X)\n",
    "    \n",
    "    for t in range(T):\n",
    "        for i in range(n):\n",
    "            if np.dot(Y[i], getSumData(alpha, Y, kernelData[:,i])) <= 0:\n",
    "                alpha[i] += 1\n",
    "\n",
    "    return alpha"
   ]
  },
  {
   "cell_type": "code",
   "execution_count": 50,
   "metadata": {},
   "outputs": [],
   "source": [
    "sample_size = 25\n",
    "data1 = np.random.normal(-35,25, size = (sample_size, 2))\n",
    "data2 = np.random.normal(75,25, size = (sample_size, 2))\n",
    "type1 = np.ones((sample_size,1))\n",
    "type2 = np.ones((sample_size,1)) * -1\n",
    "\n",
    "class1 = np.hstack((data1, type1))\n",
    "class2 = np.hstack((data2, type2))\n",
    "data = np.vstack((class1,class2))"
   ]
  },
  {
   "cell_type": "code",
   "execution_count": 51,
   "metadata": {},
   "outputs": [
    {
     "data": {
      "image/png": "[encoded data removed]",
      "text/plain": [
       "<Figure size 432x288 with 1 Axes>"
      ]
     },
     "metadata": {
      "needs_background": "light"
     },
     "output_type": "display_data"
    }
   ],
   "source": [
    "plot.plot(data1[:, 0], data1[:, 1], 'g^', color= 'g')\n",
    "plot.plot(data2[:, 0], data2[:, 1], 'o', color= 'b')\n",
    "plot.show()"
   ]
  },
  {
   "cell_type": "code",
   "execution_count": 52,
   "metadata": {},
   "outputs": [
    {
     "data": {
      "text/plain": [
       "array([1., 1., 1., 0., 0., 0., 0., 0., 0., 0., 1., 0., 0., 0., 0., 0., 0.,\n",
       "       0., 0., 0., 0., 0., 0., 0., 0., 1., 1., 1., 0., 0., 0., 0., 1., 0.,\n",
       "       0., 0., 0., 1., 0., 0., 0., 0., 0., 0., 0., 0., 0., 0., 0., 0.])"
      ]
     },
     "execution_count": 52,
     "metadata": {},
     "output_type": "execute_result"
    }
   ],
   "source": [
    "alpha = perceptron(data, 100)\n",
    "alpha"
   ]
  },
  {
   "cell_type": "code",
   "execution_count": 53,
   "metadata": {},
   "outputs": [
    {
     "data": {
      "image/png": "[encoded data removed]",
      "text/plain": [
       "<Figure size 432x288 with 1 Axes>"
      ]
     },
     "metadata": {
      "needs_background": "light"
     },
     "output_type": "display_data"
    }
   ],
   "source": [
    "#x = np.linspace(data[:, 0].min(), data[:, 0].max(), 10)\n",
    "#y = (-x * theta[0, 0] - theta0) / theta[0,1]\n",
    "\n",
    "plot.plot(x,y,'r', color = 'r')\n",
    "plot.plot(data1[:, 0], data1[:, 1], 'g^', color= 'g')\n",
    "plot.plot(data2[:, 0], data2[:, 1], 'o', color= 'b')\n",
    "plot.show()"
   ]
  },
  {
   "cell_type": "code",
   "execution_count": null,
   "metadata": {},
   "outputs": [],
   "source": []
  }
 ],
 "metadata": {
  "kernelspec": {
   "display_name": "Python 3",
   "language": "python",
   "name": "python3"
  },
  "language_info": {
   "codemirror_mode": {
    "name": "ipython",
    "version": 3
   },
   "file_extension": ".py",
   "mimetype": "text/x-python",
   "name": "python",
   "nbconvert_exporter": "python",
   "pygments_lexer": "ipython3",
   "version": "3.7.7"
  }
 },
 "nbformat": 4,
 "nbformat_minor": 4
}
