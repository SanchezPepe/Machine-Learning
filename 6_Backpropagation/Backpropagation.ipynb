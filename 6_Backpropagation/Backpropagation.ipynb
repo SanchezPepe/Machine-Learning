{
 "cells": [
  {
   "cell_type": "code",
   "execution_count": 1,
   "metadata": {},
   "outputs": [],
   "source": [
    "import numpy as np\n",
    "import random as rand\n",
    "import matplotlib.pyplot as plt"
   ]
  },
  {
   "cell_type": "code",
   "execution_count": 2,
   "metadata": {},
   "outputs": [],
   "source": [
    "class Neural_Network(object):\n",
    "    def __init__(self):\n",
    "        self.inputSize = 1\n",
    "        self.outputSize = 1\n",
    "        self.hiddenSize = 3\n",
    "\n",
    "        #pesos\n",
    "        self.W1 = np.random.randn(self.inputSize, self.hiddenSize)\n",
    "        self.W2 = np.random.randn(self.hiddenSize, self.outputSize)\n",
    "\n",
    "    def forward(self, X):\n",
    "        #propagación hacia siguiente capa\n",
    "        self.z = np.dot(X, self.W1) #producto punto entre datos y pesos W1\n",
    "        self.z2 = self.sigmoid(self.z) #función de activación\n",
    "        self.z3 = np.dot(self.z2, self.W2) #procucto punto entre capa 2 y pesos W2\n",
    "        o = self.sigmoid(self.z3) #función de activación\n",
    "        return o \n",
    "\n",
    "    def sigmoid(self, s):\n",
    "        return 1 / (1 + np.exp(-s))\n",
    "\n",
    "    def sigmoidPrime(self, s):\n",
    "        return s * (1 - s)\n",
    "\n",
    "    def backward(self, X, y, o):\n",
    "        #propagación hacia capa anterior\n",
    "        self.o_error = y - o #error en input\n",
    "        self.o_delta = self.o_error*self.sigmoidPrime(o)\n",
    "\n",
    "        self.z2_error = self.o_delta.dot(self.W2.T) #error en capa 2\n",
    "        self.z2_delta = self.z2_error*self.sigmoidPrime(self.z2)\n",
    "\n",
    "        self.W1 += X.T.dot(self.z2_delta) #ajustando primer conjunto de pesos\n",
    "        self.W2 += self.z2.T.dot(self.o_delta) #ajustando segundo conjunto de pesos\n",
    "\n",
    "    def train (self, X, y):\n",
    "        o = self.forward(X)\n",
    "        self.backward(X, y, o)"
   ]
  },
  {
   "cell_type": "code",
   "execution_count": 5,
   "metadata": {},
   "outputs": [],
   "source": [
    "minX = -15\n",
    "maxX = 15\n",
    "numData = 100\n",
    "coeffs = [1, 1, 1] #a, b, c\n",
    "data_x = []\n",
    "data_y = []\n",
    "\n",
    "for i in range(numData):\n",
    "    x = rand.random() * abs(maxX - minX)\n",
    "    data_x.append([x])\n",
    "    data_y.append([coeffs[0]**x + coeffs[1]*x + coeffs[2]])"
   ]
  },
  {
   "cell_type": "code",
   "execution_count": 6,
   "metadata": {},
   "outputs": [
    {
     "name": "stdout",
     "output_type": "stream",
     "text": [
      "Loss:  0.010814476476300329\n"
     ]
    }
   ],
   "source": [
    "X = np.array(data_x, dtype=float)\n",
    "y = np.array(data_y, dtype=float)\n",
    "\n",
    "X = X/np.amax(X, axis=0)\n",
    "y = y/np.amax(y, axis=0)\n",
    "\n",
    "NN = Neural_Network()\n",
    "for i in range(1000):\n",
    "    NN.train(X, y)\n",
    "    \n",
    "print (\"Loss: \", str(np.mean(np.square(y - NN.forward(X))))) # mean sum squared loss"
   ]
  },
  {
   "cell_type": "code",
   "execution_count": null,
   "metadata": {},
   "outputs": [],
   "source": []
  }
 ],
 "metadata": {
  "kernelspec": {
   "display_name": "Python 3",
   "language": "python",
   "name": "python3"
  },
  "language_info": {
   "codemirror_mode": {
    "name": "ipython",
    "version": 3
   },
   "file_extension": ".py",
   "mimetype": "text/x-python",
   "name": "python",
   "nbconvert_exporter": "python",
   "pygments_lexer": "ipython3",
   "version": "3.7.7"
  }
 },
 "nbformat": 4,
 "nbformat_minor": 4
}
