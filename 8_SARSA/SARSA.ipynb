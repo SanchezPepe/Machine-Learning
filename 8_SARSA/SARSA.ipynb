{
 "cells": [
  {
   "cell_type": "code",
   "execution_count": 2,
   "metadata": {
    "colab": {},
    "colab_type": "code",
    "id": "HKu1OlN19oAg"
   },
   "outputs": [],
   "source": [
    "import gym\n",
    "import matplotlib.pyplot as plt\n",
    "import numpy as np\n",
    "import random\n",
    "import sys\n",
    "\n",
    "from collections import defaultdict\n",
    "\n",
    "%matplotlib inline\n",
    "\n",
    "env = gym.make('Blackjack-v0')"
   ]
  },
  {
   "cell_type": "code",
   "execution_count": 3,
   "metadata": {
    "colab": {},
    "colab_type": "code",
    "id": "9lOvx5xY9oAy"
   },
   "outputs": [],
   "source": [
    "def muestrea_politica(Q, estado,epsilon,i=1):\n",
    "    if random.random() < epsilon/i: \n",
    "        accion = env.action_space.sample()\n",
    "    else:\n",
    "        if Q[estado,1]>Q[estado,0]: accion = 1\n",
    "        else: accion = 0\n",
    "            \n",
    "    return accion"
   ]
  },
  {
   "cell_type": "code",
   "execution_count": 4,
   "metadata": {
    "colab": {},
    "colab_type": "code",
    "id": "vSByGtH59oBC"
   },
   "outputs": [],
   "source": [
    "def inicializa_Q():\n",
    "   estados = list()\n",
    "   for mis_puntos in range(11,22):\n",
    "        for sus_puntos in range(1,11):\n",
    "            for utilizable in range(0,2):\n",
    "                estados.append((mis_puntos,sus_puntos,utilizable))\n",
    "\n",
    "   M = {}\n",
    "   for estado in estados:\n",
    "      mis_puntos, puntos_del_repartidor, as_utilizable = estado\n",
    "      if (mis_puntos < 20):\n",
    "         M[(estado,0)] = -0.001\n",
    "         M[(estado,1)] = 0.001   # favorece pedir\n",
    "      else:\n",
    "         M[(estado,0)] = 0.001  # favorece quedarse\n",
    "         M[(estado,1)] = -0.001\n",
    "   return M"
   ]
  },
  {
   "cell_type": "code",
   "execution_count": 8,
   "metadata": {
    "colab": {},
    "colab_type": "code",
    "id": "1WiBA9Aw9oBX"
   },
   "outputs": [],
   "source": [
    "def prediccion_sarsa(politica, env, num_episodios, gama=1.0, alfa=1.0, eps=0.5):\n",
    "\n",
    "    cuenta_retornos = defaultdict(float)\n",
    "\n",
    "    ganados=0\n",
    "    empatados=0\n",
    "    \n",
    "    Q = inicializa_Q()\n",
    "    \n",
    "    for i in range(0, num_episodios+1):\n",
    "        S = env.reset()\n",
    "        mis_puntos, _, as_utilizable = S \n",
    "        valor = mis_puntos + 10*as_utilizable\n",
    "\n",
    "        while valor < 12:\n",
    "            S, recompensa, termino, _ = env.step(1)\n",
    "            mis_puntos, _, as_utilizable = S \n",
    "            valor = mis_puntos + 10*as_utilizable\n",
    "        \n",
    "        A = politica(Q,S,eps,(i+1)/1000000)\n",
    "        termino=0\n",
    "\n",
    "        while termino == 0:\n",
    "            S_p, R, termino, _ = env.step(A)\n",
    "            if termino:\n",
    "              A_p = 0\n",
    "              Q_p = R\n",
    "            else:\n",
    "              A_p = politica(Q,S_p,eps,(i+1)/1000000)\n",
    "              Q_p = Q[S_p,A_p]\n",
    "            Q[S,A] += alfa*( R + gama*Q_p - Q[S,A] )\n",
    "            S=S_p\n",
    "            A=A_p\n",
    "        \n",
    "        ganados += R>0\n",
    "        empatados += R==0\n",
    "        \n",
    "    print(\"Episodios: \" + str(i) +\n",
    "          \"\\n   Ganados: \" + str(ganados/i)+\n",
    "          \"\\n   Empatados: \" + str(empatados/i)+\n",
    "          \"\\n   Perdidos: \" + str(1-(empatados+ganados)/i))\n",
    "    return Q"
   ]
  },
  {
   "cell_type": "code",
   "execution_count": 6,
   "metadata": {
    "colab": {
     "base_uri": "https://localhost:8080/",
     "height": 85
    },
    "colab_type": "code",
    "executionInfo": {
     "elapsed": 451155,
     "status": "ok",
     "timestamp": 1589936003474,
     "user": {
      "displayName": "Humberto MartínezBarrón",
      "photoUrl": "",
      "userId": "05361005743885698126"
     },
     "user_tz": 300
    },
    "id": "yZltoeKY9oBr",
    "outputId": "ce3bad45-03ac-4047-dc37-eecf3e1baec0"
   },
   "outputs": [
    {
     "name": "stdout",
     "output_type": "stream",
     "text": [
      "Núm. episodios: 10000000\n",
      "   Ganados: 0.3847734\n",
      "   Empatados: 0.0816835\n",
      "   Perdidos: 0.5335430999999999\n"
     ]
    }
   ],
   "source": [
    "Q_10k = prediccion_sarsa(muestrea_politica, env, num_episodios=10000000, gama=0.9, alfa=0.5)"
   ]
  },
  {
   "cell_type": "code",
   "execution_count": 9,
   "metadata": {
    "colab": {
     "base_uri": "https://localhost:8080/",
     "height": 510
    },
    "colab_type": "code",
    "executionInfo": {
     "elapsed": 353,
     "status": "ok",
     "timestamp": 1589936177612,
     "user": {
      "displayName": "Humberto MartínezBarrón",
      "photoUrl": "",
      "userId": "05361005743885698126"
     },
     "user_tz": 300
    },
    "id": "6apxqvhT9oCF",
    "outputId": "54e15373-5543-454d-fec9-c9df77b44dbc",
    "scrolled": true
   },
   "outputs": [
    {
     "name": "stdout",
     "output_type": "stream",
     "text": [
      "---- Política ----\n",
      "As no utilizable\n",
      "          | 21\n",
      "          | 20\n",
      "          | 19\n",
      "          | 18\n",
      "X        X| 17\n",
      "X    XXXXX| 16\n",
      "XXX X XXXX| 15\n",
      "XXXX XXXXX| 14\n",
      "XXXXXX XXX| 13\n",
      "XXXXXXXXXX| 12\n",
      "XXXXXXXXXX| 11\n",
      "A2345678910\n",
      " \n",
      "As utilizable\n",
      "          | 21\n",
      "  XX     X| 20\n",
      "XX XXXX XX| 19\n",
      "X X XXXX X| 18\n",
      "XXXXX XXXX| 17\n",
      "XXXXXXXXXX| 16\n",
      "XXXXXXXXXX| 15\n",
      "XXXXXXXXXX| 14\n",
      "XXXXXXXXX | 13\n",
      "XXXXXXXXXX| 12\n",
      "XXXXXXXXXX| 11\n",
      "A2345678910\n",
      " \n"
     ]
    }
   ],
   "source": [
    "def imprime_politica(Q):\n",
    "    print('---- Política ----')\n",
    "    for useable in [0, 1]:\n",
    "        if useable:\n",
    "            print('As utilizable')\n",
    "        else:\n",
    "            print('As no utilizable')\n",
    "        for val in range(21,10,-1):\n",
    "            for card in range(1,11):\n",
    "                if (Q[((val,card,useable),1)] > Q[((val,card,useable),0)]):\n",
    "                    print('X',end=\"\")\n",
    "                else:\n",
    "                    print(' ',end=\"\")\n",
    "            print('| %d' % val)\n",
    "        print(\"A2345678910\")\n",
    "        print(' ')\n",
    "    \n",
    "imprime_politica(Q_10k)"
   ]
  }
 ],
 "metadata": {
  "colab": {
   "collapsed_sections": [],
   "name": "Control Sarsa.ipynb",
   "provenance": []
  },
  "kernelspec": {
   "display_name": "Python 3",
   "language": "python",
   "name": "python3"
  },
  "language_info": {
   "codemirror_mode": {
    "name": "ipython",
    "version": 3
   },
   "file_extension": ".py",
   "mimetype": "text/x-python",
   "name": "python",
   "nbconvert_exporter": "python",
   "pygments_lexer": "ipython3",
   "version": "3.6.9"
  }
 },
 "nbformat": 4,
 "nbformat_minor": 4
}
