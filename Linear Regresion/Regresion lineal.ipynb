{
 "cells": [
  {
   "cell_type": "code",
   "execution_count": 62,
   "metadata": {},
   "outputs": [],
   "source": [
    "import pandas as pnd\n",
    "import matplotlib.pyplot as plot"
   ]
  },
  {
   "cell_type": "code",
   "execution_count": 63,
   "metadata": {},
   "outputs": [
    {
     "data": {
      "text/html": [
       "<div>\n",
       "<style scoped>\n",
       "    .dataframe tbody tr th:only-of-type {\n",
       "        vertical-align: middle;\n",
       "    }\n",
       "\n",
       "    .dataframe tbody tr th {\n",
       "        vertical-align: top;\n",
       "    }\n",
       "\n",
       "    .dataframe thead th {\n",
       "        text-align: right;\n",
       "    }\n",
       "</style>\n",
       "<table border=\"1\" class=\"dataframe\">\n",
       "  <thead>\n",
       "    <tr style=\"text-align: right;\">\n",
       "      <th></th>\n",
       "      <th>Altura</th>\n",
       "      <th>Peso</th>\n",
       "    </tr>\n",
       "  </thead>\n",
       "  <tbody>\n",
       "    <tr>\n",
       "      <th>0</th>\n",
       "      <td>1.875714</td>\n",
       "      <td>109.721075</td>\n",
       "    </tr>\n",
       "    <tr>\n",
       "      <th>1</th>\n",
       "      <td>1.747060</td>\n",
       "      <td>73.622792</td>\n",
       "    </tr>\n",
       "    <tr>\n",
       "      <th>2</th>\n",
       "      <td>1.882397</td>\n",
       "      <td>96.497629</td>\n",
       "    </tr>\n",
       "    <tr>\n",
       "      <th>3</th>\n",
       "      <td>1.821967</td>\n",
       "      <td>99.809586</td>\n",
       "    </tr>\n",
       "    <tr>\n",
       "      <th>4</th>\n",
       "      <td>1.774998</td>\n",
       "      <td>93.598695</td>\n",
       "    </tr>\n",
       "    <tr>\n",
       "      <th>...</th>\n",
       "      <td>...</td>\n",
       "      <td>...</td>\n",
       "    </tr>\n",
       "    <tr>\n",
       "      <th>9995</th>\n",
       "      <td>1.680785</td>\n",
       "      <td>62.041210</td>\n",
       "    </tr>\n",
       "    <tr>\n",
       "      <th>9996</th>\n",
       "      <td>1.703506</td>\n",
       "      <td>77.504378</td>\n",
       "    </tr>\n",
       "    <tr>\n",
       "      <th>9997</th>\n",
       "      <td>1.622247</td>\n",
       "      <td>58.275424</td>\n",
       "    </tr>\n",
       "    <tr>\n",
       "      <th>9998</th>\n",
       "      <td>1.753470</td>\n",
       "      <td>74.322226</td>\n",
       "    </tr>\n",
       "    <tr>\n",
       "      <th>9999</th>\n",
       "      <td>1.573384</td>\n",
       "      <td>51.550366</td>\n",
       "    </tr>\n",
       "  </tbody>\n",
       "</table>\n",
       "<p>10000 rows × 2 columns</p>\n",
       "</div>"
      ],
      "text/plain": [
       "        Altura        Peso\n",
       "0     1.875714  109.721075\n",
       "1     1.747060   73.622792\n",
       "2     1.882397   96.497629\n",
       "3     1.821967   99.809586\n",
       "4     1.774998   93.598695\n",
       "...        ...         ...\n",
       "9995  1.680785   62.041210\n",
       "9996  1.703506   77.504378\n",
       "9997  1.622247   58.275424\n",
       "9998  1.753470   74.322226\n",
       "9999  1.573384   51.550366\n",
       "\n",
       "[10000 rows x 2 columns]"
      ]
     },
     "execution_count": 63,
     "metadata": {},
     "output_type": "execute_result"
    }
   ],
   "source": [
    "dataframe = pnd.read_csv('pesos_y_alturas_v1.csv')\n",
    "dataframe"
   ]
  },
  {
   "cell_type": "code",
   "execution_count": 64,
   "metadata": {},
   "outputs": [],
   "source": [
    "def hypothesis(x, theta0, theta1):\n",
    "    return theta0 + (theta1 * x)"
   ]
  },
  {
   "cell_type": "code",
   "execution_count": 65,
   "metadata": {},
   "outputs": [],
   "source": [
    "def lrPartialDerivatives(X, Y, m, theta0, theta1):\n",
    "    deriv0 = 0\n",
    "    deriv1 = 0\n",
    "    \n",
    "    for i in range(0, m):\n",
    "        deriv0 += (hypothesis(X[i], theta0, theta1) - Y[i])\n",
    "        deriv1 += (hypothesis(X[i], theta0, theta1) - Y[i]) * X[i]\n",
    "    \n",
    "    deriv0 /= m\n",
    "    deriv1 /= m\n",
    "    \n",
    "    return deriv0, deriv1"
   ]
  },
  {
   "cell_type": "code",
   "execution_count": 66,
   "metadata": {},
   "outputs": [],
   "source": [
    "def linearRegresion(X, Y, alpha, tol, maxIters):\n",
    "    #Initial theta guess values\n",
    "    theta0 = 0\n",
    "    theta1 = 0\n",
    "    m = len(X)\n",
    "    band = True\n",
    "    cont = 0\n",
    "    \n",
    "    while band:\n",
    "        deriv0, deriv1 = lrPartialDerivatives(X, Y, m, theta0, theta1)\n",
    "        chRate0 = alpha * deriv0\n",
    "        chRate1 = alpha * deriv1\n",
    "        \n",
    "        theta0 += (-1 * chRate0)\n",
    "        theta1 += (-1 * chRate1)\n",
    "        cont += 1\n",
    "        \n",
    "        if (cont == maxIters) or (max(abs(chRate0), abs(chRate1)) < tol):\n",
    "            band = False\n",
    "    \n",
    "    return theta0, theta1"
   ]
  },
  {
   "cell_type": "code",
   "execution_count": 67,
   "metadata": {},
   "outputs": [],
   "source": [
    "def getPredictedValues(X, theta0, theta1):\n",
    "    yValues = []\n",
    "    \n",
    "    for i in range(0, len(X)):\n",
    "        prediction = theta0 + (theta1 * X[i])\n",
    "        yValues.append(prediction)\n",
    "    \n",
    "    return yValues"
   ]
  },
  {
   "cell_type": "code",
   "execution_count": 68,
   "metadata": {},
   "outputs": [
    {
     "data": {
      "text/plain": [
       "(18.038742543191482, 32.99975230637033)"
      ]
     },
     "execution_count": 68,
     "metadata": {},
     "output_type": "execute_result"
    }
   ],
   "source": [
    "X = dataframe['Altura']\n",
    "Y = dataframe['Peso']\n",
    "alpha = 0.25\n",
    "tol = 1e-6\n",
    "maxIters = 10\n",
    "\n",
    "theta0, theta1 = linearRegresion(X, Y, alpha, tol, maxIters)\n",
    "theta0, theta1"
   ]
  },
  {
   "cell_type": "code",
   "execution_count": 69,
   "metadata": {},
   "outputs": [
    {
     "data": {
      "image/png": "[encoded data removed]",
      "text/plain": [
       "<Figure size 432x288 with 1 Axes>"
      ]
     },
     "metadata": {
      "needs_background": "light"
     },
     "output_type": "display_data"
    }
   ],
   "source": [
    "predictedPesos = getPredictedValues(X, theta0, theta1)\n",
    "\n",
    "plot.scatter(X, Y)\n",
    "plot.plot(X, predictedPesos, '-r')\n",
    "plot.show()"
   ]
  },
  {
   "cell_type": "code",
   "execution_count": null,
   "metadata": {},
   "outputs": [],
   "source": []
  }
 ],
 "metadata": {
  "kernelspec": {
   "display_name": "Python 3",
   "language": "python",
   "name": "python3"
  },
  "language_info": {
   "codemirror_mode": {
    "name": "ipython",
    "version": 3
   },
   "file_extension": ".py",
   "mimetype": "text/x-python",
   "name": "python",
   "nbconvert_exporter": "python",
   "pygments_lexer": "ipython3",
   "version": "3.8.2"
  }
 },
 "nbformat": 4,
 "nbformat_minor": 4
}
